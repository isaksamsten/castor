{
 "cells": [
  {
   "cell_type": "code",
   "execution_count": 1,
   "metadata": {},
   "outputs": [],
   "source": [
    "from wildboar.datasets import load_dataset\n",
    "from wildboar.linear_model import CastorClassifier\n",
    "from wildboar.transform import CastorTransform\n",
    "\n",
    "X_train, X_test, y_train, y_test = load_dataset(\"GunPoint\", merge_train_test=False)"
   ]
  },
  {
   "cell_type": "code",
   "execution_count": 2,
   "metadata": {},
   "outputs": [
    {
     "data": {
      "text/plain": [
       "1.0"
      ]
     },
     "execution_count": 2,
     "metadata": {},
     "output_type": "execute_result"
    }
   ],
   "source": [
    "CastorClassifier(n_jobs=-1).fit(X_train, y_train).score(X_test, y_test)"
   ]
  },
  {
   "cell_type": "code",
   "execution_count": 3,
   "metadata": {},
   "outputs": [],
   "source": [
    "t = CastorTransform(n_groups=128, n_shapelets=16, n_jobs=-1).fit(X_train, y_train)"
   ]
  },
  {
   "cell_type": "code",
   "execution_count": 4,
   "metadata": {},
   "outputs": [
    {
     "data": {
      "text/plain": [
       "array([[16.41575183,  3.        ,  4.        , ...,  0.        ,\n",
       "         0.        , 27.        ],\n",
       "       [ 1.0804074 ,  1.        ,  5.        , ..., 17.6643579 ,\n",
       "         3.        , 24.        ],\n",
       "       [ 8.91701541,  4.        ,  3.        , ...,  0.        ,\n",
       "         1.        , 16.        ],\n",
       "       ...,\n",
       "       [ 1.69009061,  4.        , 10.        , ...,  9.78070787,\n",
       "         1.        , 24.        ],\n",
       "       [14.544498  ,  1.        ,  2.        , ...,  0.        ,\n",
       "         0.        , 16.        ],\n",
       "       [ 6.15033104,  4.        ,  4.        , ...,  0.        ,\n",
       "         0.        , 29.        ]])"
      ]
     },
     "execution_count": 4,
     "metadata": {},
     "output_type": "execute_result"
    }
   ],
   "source": [
    "t.transform(X_test)"
   ]
  }
 ],
 "metadata": {
  "kernelspec": {
   "display_name": ".venv",
   "language": "python",
   "name": "python3"
  },
  "language_info": {
   "codemirror_mode": {
    "name": "ipython",
    "version": 3
   },
   "file_extension": ".py",
   "mimetype": "text/x-python",
   "name": "python",
   "nbconvert_exporter": "python",
   "pygments_lexer": "ipython3",
   "version": "3.12.2"
  }
 },
 "nbformat": 4,
 "nbformat_minor": 2
}
